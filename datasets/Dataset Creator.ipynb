{
 "cells": [
  {
   "cell_type": "code",
   "execution_count": 11,
   "metadata": {},
   "outputs": [],
   "source": [
    "import numpy as np\n",
    "from random import shuffle"
   ]
  },
  {
   "cell_type": "code",
   "execution_count": 12,
   "metadata": {},
   "outputs": [],
   "source": [
    "male = 0.4 * np.random.random((250,9)) + 0.6\n",
    "female = 0.4 * np.random.random((250,9)) + 0.6"
   ]
  },
  {
   "cell_type": "code",
   "execution_count": 13,
   "metadata": {},
   "outputs": [],
   "source": [
    "male[:,-3:] = 0.01 * np.random.random(1)\n",
    "male[:,-1] = 0 \n",
    "# Male labelled 0\n",
    "female[:,:2] =0.01 * np.random.random(1)\n",
    "female[:,-1] = 1\n",
    "# Female labelled 1"
   ]
  },
  {
   "cell_type": "code",
   "execution_count": 14,
   "metadata": {},
   "outputs": [
    {
     "name": "stdout",
     "output_type": "stream",
     "text": [
      "[0.60450035 0.9877439  0.62280359 0.77917571 0.85038329 0.94539747\n",
      " 0.00441822 0.00441822 0.        ]\n",
      "[0.00940217 0.00940217 0.77346297 0.89566368 0.78938195 0.95148022\n",
      " 0.69298388 0.6010085  1.        ]\n"
     ]
    }
   ],
   "source": [
    "print(male[0])\n",
    "print(female[0])\n",
    "male_train = male[:200]\n",
    "male_test = male[-50:]\n",
    "female_train = female[:200]\n",
    "female_test = female[-50:]"
   ]
  },
  {
   "cell_type": "code",
   "execution_count": 15,
   "metadata": {},
   "outputs": [
    {
     "name": "stdout",
     "output_type": "stream",
     "text": [
      "(200, 9) (50, 9)\n"
     ]
    }
   ],
   "source": [
    "print(male_train.shape, male_test.shape)\n",
    "# Similar for female"
   ]
  },
  {
   "cell_type": "code",
   "execution_count": 16,
   "metadata": {},
   "outputs": [],
   "source": [
    "train = np.concatenate((male_train,female_train))\n",
    "test = np.concatenate((male_test,female_test))\n",
    "shuffle(train)\n",
    "shuffle(test)"
   ]
  },
  {
   "cell_type": "code",
   "execution_count": 17,
   "metadata": {},
   "outputs": [],
   "source": [
    "np.save('train/train_data', train)\n",
    "np.save('test/test_data', test)"
   ]
  }
 ],
 "metadata": {
  "kernelspec": {
   "display_name": "Python 3",
   "language": "python",
   "name": "python3"
  },
  "language_info": {
   "codemirror_mode": {
    "name": "ipython",
    "version": 3
   },
   "file_extension": ".py",
   "mimetype": "text/x-python",
   "name": "python",
   "nbconvert_exporter": "python",
   "pygments_lexer": "ipython3",
   "version": "3.6.8"
  }
 },
 "nbformat": 4,
 "nbformat_minor": 2
}
